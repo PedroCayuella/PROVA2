{
 "cells": [
  {
   "cell_type": "code",
   "execution_count": 7,
   "id": "c3cea0a9-76d2-4931-94b7-a4b4ee4ecf57",
   "metadata": {},
   "outputs": [],
   "source": [
    "def calcular_media_consumo(consumos):\n",
    "    # Verifica se a lista tem 30 registros\n",
    "    if len(consumos) != 30:\n",
    "        raise ValueError(\"A lista deve conter exatamente 30 registros.\")\n",
    "    \n",
    "    # Calcula a soma de todos os consumos\n",
    "    soma_consumo = sum(consumos)\n",
    "    \n",
    "    # Calcula a média dividindo a soma pelo número de dias (30)\n",
    "    media_consumo = soma_consumo / 30\n",
    "    \n",
    "    return media_consumo"
   ]
  },
  {
   "cell_type": "code",
   "execution_count": 8,
   "id": "f9632b94-aaf9-4578-b3de-29ab0877991d",
   "metadata": {},
   "outputs": [
    {
     "name": "stdout",
     "output_type": "stream",
     "text": [
      "A média de consumo é: 11.78 kWh\n"
     ]
    }
   ],
   "source": [
    "# Chama a função para calcular a média\n",
    "media = calcular_media_consumo(consumos_diarios)\n",
    "\n",
    "# Exibe a média\n",
    "print(f\"A média de consumo é: {media:.2f} kWh\")"
   ]
  },
  {
   "cell_type": "code",
   "execution_count": null,
   "id": "455e075c-da40-470a-84e8-8607b82f92de",
   "metadata": {},
   "outputs": [],
   "source": []
  }
 ],
 "metadata": {
  "kernelspec": {
   "display_name": "Python 3 (ipykernel)",
   "language": "python",
   "name": "python3"
  },
  "language_info": {
   "codemirror_mode": {
    "name": "ipython",
    "version": 3
   },
   "file_extension": ".py",
   "mimetype": "text/x-python",
   "name": "python",
   "nbconvert_exporter": "python",
   "pygments_lexer": "ipython3",
   "version": "3.12.4"
  }
 },
 "nbformat": 4,
 "nbformat_minor": 5
}
